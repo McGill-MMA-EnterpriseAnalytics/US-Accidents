{
 "cells": [
  {
   "cell_type": "markdown",
   "metadata": {},
   "source": [
    "<h1><center>Enterprise Analytics</center></h1>\n",
    "<h2><center>Group Project - US Accident Prediction - AutoML Section</center></h2>\n"
   ]
  },
  {
   "cell_type": "markdown",
   "metadata": {},
   "source": [
    "# Import libraries and Set up H2O"
   ]
  },
  {
   "cell_type": "markdown",
   "metadata": {},
   "source": [
    "Install H2O for python in a terminal window. Install dependencies first. "
   ]
  },
  {
   "cell_type": "code",
   "execution_count": 49,
   "metadata": {},
   "outputs": [
    {
     "name": "stdout",
     "output_type": "stream",
     "text": [
      "Requirement already satisfied: requests in c:\\anaconda\\lib\\site-packages (2.22.0)\n",
      "Requirement already satisfied: certifi>=2017.4.17 in c:\\anaconda\\lib\\site-packages (from requests) (2019.9.11)\n",
      "Requirement already satisfied: chardet<3.1.0,>=3.0.2 in c:\\anaconda\\lib\\site-packages (from requests) (3.0.4)\n",
      "Requirement already satisfied: idna<2.9,>=2.5 in c:\\anaconda\\lib\\site-packages (from requests) (2.8)\n",
      "Requirement already satisfied: urllib3!=1.25.0,!=1.25.1,<1.26,>=1.21.1 in c:\\anaconda\\lib\\site-packages (from requests) (1.24.2)\n",
      "Requirement already satisfied: tabulate in c:\\anaconda\\lib\\site-packages (0.8.6)\n",
      "Requirement already satisfied: colorama>=0.3.8 in c:\\anaconda\\lib\\site-packages (0.4.1)\n",
      "Requirement already satisfied: future in c:\\anaconda\\lib\\site-packages (0.17.1)\n",
      "Requirement already satisfied: h2o in c:\\anaconda\\lib\\site-packages (3.6.0.8)\n",
      "Requirement already satisfied: tabulate in c:\\anaconda\\lib\\site-packages (from h2o) (0.8.6)\n",
      "Requirement already satisfied: requests in c:\\anaconda\\lib\\site-packages (from h2o) (2.22.0)\n",
      "Requirement already satisfied: urllib3!=1.25.0,!=1.25.1,<1.26,>=1.21.1 in c:\\anaconda\\lib\\site-packages (from requests->h2o) (1.24.2)\n",
      "Requirement already satisfied: idna<2.9,>=2.5 in c:\\anaconda\\lib\\site-packages (from requests->h2o) (2.8)\n",
      "Requirement already satisfied: chardet<3.1.0,>=3.0.2 in c:\\anaconda\\lib\\site-packages (from requests->h2o) (3.0.4)\n",
      "Requirement already satisfied: certifi>=2017.4.17 in c:\\anaconda\\lib\\site-packages (from requests->h2o) (2019.9.11)\n",
      "Requirement already satisfied: scikit-learn in c:\\anaconda\\lib\\site-packages (0.21.2)\n",
      "Requirement already satisfied: joblib>=0.11 in c:\\anaconda\\lib\\site-packages (from scikit-learn) (0.13.2)\n",
      "Requirement already satisfied: scipy>=0.17.0 in c:\\anaconda\\lib\\site-packages (from scikit-learn) (1.2.1)\n",
      "Requirement already satisfied: numpy>=1.11.0 in c:\\anaconda\\lib\\site-packages (from scikit-learn) (1.16.4)\n"
     ]
    }
   ],
   "source": [
    "!pip install requests\n",
    "!pip install tabulate\n",
    "!pip install \"colorama>=0.3.8\"\n",
    "!pip install future\n",
    "!pip install h2o\n",
    "!pip install scikit-learn"
   ]
  },
  {
   "cell_type": "markdown",
   "metadata": {},
   "source": [
    "Install the latest version of h2o python module"
   ]
  },
  {
   "cell_type": "code",
   "execution_count": 48,
   "metadata": {},
   "outputs": [
    {
     "name": "stdout",
     "output_type": "stream",
     "text": [
      "Collecting h2o==3.6.0.8 from http://h2o-release.s3.amazonaws.com/h2o/rel-tibshirani/8/Python/h2o-3.6.0.8-py2.py3-none-any.whl\n",
      "  Downloading http://h2o-release.s3.amazonaws.com/h2o/rel-tibshirani/8/Python/h2o-3.6.0.8-py2.py3-none-any.whl (46.4MB)\n",
      "Requirement already satisfied: tabulate in c:\\anaconda\\lib\\site-packages (from h2o==3.6.0.8) (0.8.6)\n",
      "Requirement already satisfied: requests in c:\\anaconda\\lib\\site-packages (from h2o==3.6.0.8) (2.22.0)\n",
      "Requirement already satisfied: certifi>=2017.4.17 in c:\\anaconda\\lib\\site-packages (from requests->h2o==3.6.0.8) (2019.9.11)\n",
      "Requirement already satisfied: idna<2.9,>=2.5 in c:\\anaconda\\lib\\site-packages (from requests->h2o==3.6.0.8) (2.8)\n",
      "Requirement already satisfied: chardet<3.1.0,>=3.0.2 in c:\\anaconda\\lib\\site-packages (from requests->h2o==3.6.0.8) (3.0.4)\n",
      "Requirement already satisfied: urllib3!=1.25.0,!=1.25.1,<1.26,>=1.21.1 in c:\\anaconda\\lib\\site-packages (from requests->h2o==3.6.0.8) (1.24.2)\n",
      "Installing collected packages: h2o\n",
      "Successfully installed h2o-3.6.0.8\n",
      "Note: you may need to restart the kernel to use updated packages.\n"
     ]
    }
   ],
   "source": [
    "pip install http://h2o-release.s3.amazonaws.com/h2o/rel-tibshirani/8/Python/h2o-3.6.0.8-py2.py3-none-any.whl"
   ]
  },
  {
   "cell_type": "markdown",
   "metadata": {},
   "source": [
    "Import necessary libraries"
   ]
  },
  {
   "cell_type": "code",
   "execution_count": 29,
   "metadata": {},
   "outputs": [],
   "source": [
    "import pandas as pd\n",
    "import h2o\n",
    "from h2o.automl import H2OAutoML"
   ]
  },
  {
   "cell_type": "markdown",
   "metadata": {},
   "source": [
    "Initialize H2O in python "
   ]
  },
  {
   "cell_type": "code",
   "execution_count": 25,
   "metadata": {},
   "outputs": [
    {
     "name": "stdout",
     "output_type": "stream",
     "text": [
      "Checking whether there is an H2O instance running at http://localhost:54323 . connected.\n"
     ]
    },
    {
     "data": {
      "text/html": [
       "<div style=\"overflow:auto\"><table style=\"width:50%\"><tr><td>H2O cluster uptime:</td>\n",
       "<td>58 mins 41 secs</td></tr>\n",
       "<tr><td>H2O cluster timezone:</td>\n",
       "<td>America/Toronto</td></tr>\n",
       "<tr><td>H2O data parsing timezone:</td>\n",
       "<td>UTC</td></tr>\n",
       "<tr><td>H2O cluster version:</td>\n",
       "<td>3.28.0.3</td></tr>\n",
       "<tr><td>H2O cluster version age:</td>\n",
       "<td>9 days </td></tr>\n",
       "<tr><td>H2O cluster name:</td>\n",
       "<td>H2O_from_python_å°�ä¸�_iz9mbs</td></tr>\n",
       "<tr><td>H2O cluster total nodes:</td>\n",
       "<td>1</td></tr>\n",
       "<tr><td>H2O cluster free memory:</td>\n",
       "<td>3.505 Gb</td></tr>\n",
       "<tr><td>H2O cluster total cores:</td>\n",
       "<td>8</td></tr>\n",
       "<tr><td>H2O cluster allowed cores:</td>\n",
       "<td>8</td></tr>\n",
       "<tr><td>H2O cluster status:</td>\n",
       "<td>locked, healthy</td></tr>\n",
       "<tr><td>H2O connection url:</td>\n",
       "<td>http://localhost:54323</td></tr>\n",
       "<tr><td>H2O connection proxy:</td>\n",
       "<td>{'http': None, 'https': None}</td></tr>\n",
       "<tr><td>H2O internal security:</td>\n",
       "<td>False</td></tr>\n",
       "<tr><td>H2O API Extensions:</td>\n",
       "<td>Amazon S3, Algos, AutoML, Core V3, TargetEncoder, Core V4</td></tr>\n",
       "<tr><td>Python version:</td>\n",
       "<td>3.7.3 final</td></tr></table></div>"
      ],
      "text/plain": [
       "--------------------------  ---------------------------------------------------------\n",
       "H2O cluster uptime:         58 mins 41 secs\n",
       "H2O cluster timezone:       America/Toronto\n",
       "H2O data parsing timezone:  UTC\n",
       "H2O cluster version:        3.28.0.3\n",
       "H2O cluster version age:    9 days\n",
       "H2O cluster name:           H2O_from_python_å°�ä¸�_iz9mbs\n",
       "H2O cluster total nodes:    1\n",
       "H2O cluster free memory:    3.505 Gb\n",
       "H2O cluster total cores:    8\n",
       "H2O cluster allowed cores:  8\n",
       "H2O cluster status:         locked, healthy\n",
       "H2O connection url:         http://localhost:54323\n",
       "H2O connection proxy:       {'http': None, 'https': None}\n",
       "H2O internal security:      False\n",
       "H2O API Extensions:         Amazon S3, Algos, AutoML, Core V3, TargetEncoder, Core V4\n",
       "Python version:             3.7.3 final\n",
       "--------------------------  ---------------------------------------------------------"
      ]
     },
     "metadata": {},
     "output_type": "display_data"
    }
   ],
   "source": [
    "h2o.init(ip=\"localhost\", port=54323)"
   ]
  },
  {
   "cell_type": "markdown",
   "metadata": {},
   "source": [
    "# Upload data"
   ]
  },
  {
   "cell_type": "markdown",
   "metadata": {},
   "source": [
    "For the AutoML regression model, we use the dataset after preprocessing. The main objective of this section is to predict accident duration based on other numeric values in US accident dataset. We assume that severtiy level can be obtained as soon as accdient happens. Duration prediction plays an important role in accident managment process. With such prediction information, the government is able to mitigate traffic congestion due to accidents in a more proactive way. We adopted AutoML model to predict duration of future accidents. "
   ]
  },
  {
   "cell_type": "code",
   "execution_count": 31,
   "metadata": {},
   "outputs": [
    {
     "name": "stdout",
     "output_type": "stream",
     "text": [
      "Parse progress: |█████████████████████████████████████████████████████████| 100%\n"
     ]
    }
   ],
   "source": [
    "# load data into H2O\n",
    "df = h2o.import_file(r'D:\\US-Accidents\\df.csv')"
   ]
  },
  {
   "cell_type": "markdown",
   "metadata": {},
   "source": [
    "Let's get a sense of data."
   ]
  },
  {
   "cell_type": "code",
   "execution_count": 32,
   "metadata": {},
   "outputs": [
    {
     "name": "stdout",
     "output_type": "stream",
     "text": [
      "Rows:487804\n",
      "Cols:45\n",
      "\n",
      "\n"
     ]
    },
    {
     "data": {
      "text/html": [
       "<table>\n",
       "<thead>\n",
       "<tr><th>       </th><th>C1                </th><th>Severity          </th><th>Start_Lat         </th><th>Start_Lng         </th><th>End_Lat          </th><th>End_Lng            </th><th>Distance(mi)       </th><th>Description                                                                                              </th><th>Street             </th><th>Side  </th><th>City          </th><th>County       </th><th>State  </th><th>Timezone   </th><th>Temperature(F)   </th><th>Wind_Chill(F)     </th><th>Humidity(%)      </th><th>Pressure(in)      </th><th>Visibility(mi)    </th><th>Wind_Direction  </th><th>Wind_Speed(mph)  </th><th>Precipitation(in)   </th><th>Weather_Condition  </th><th>Amenity  </th><th>Bump  </th><th>Crossing  </th><th>Give_Way  </th><th>Junction  </th><th>No_Exit  </th><th>Railway  </th><th>Roundabout  </th><th>Station  </th><th>Stop  </th><th>Traffic_Calming  </th><th>Traffic_Signal  </th><th>Turning_Loop  </th><th>Sunrise_Sunset  </th><th>Civil_Twilight  </th><th>Nautical_Twilight  </th><th>Astronomical_Twilight  </th><th>Start_Year        </th><th>Start_Month       </th><th>Start_Day        </th><th>Start_Hour       </th><th>Accident_Duration  </th></tr>\n",
       "</thead>\n",
       "<tbody>\n",
       "<tr><td>type   </td><td>int               </td><td>int               </td><td>real              </td><td>real              </td><td>real             </td><td>real               </td><td>real               </td><td>string                                                                                                   </td><td>enum               </td><td>enum  </td><td>enum          </td><td>enum         </td><td>enum   </td><td>enum       </td><td>real             </td><td>real              </td><td>int              </td><td>real              </td><td>real              </td><td>enum            </td><td>real             </td><td>real                </td><td>enum               </td><td>enum     </td><td>enum  </td><td>enum      </td><td>enum      </td><td>enum      </td><td>enum     </td><td>enum     </td><td>enum        </td><td>enum     </td><td>enum  </td><td>enum             </td><td>enum            </td><td>enum          </td><td>enum            </td><td>enum            </td><td>enum               </td><td>enum                   </td><td>int               </td><td>int               </td><td>int              </td><td>int              </td><td>int                </td></tr>\n",
       "<tr><td>mins   </td><td>0.0               </td><td>1.0               </td><td>24.5574           </td><td>-124.49742        </td><td>0.0              </td><td>-124.497419        </td><td>0.0                </td><td>NaN                                                                                                      </td><td>                   </td><td>      </td><td>              </td><td>             </td><td>       </td><td>           </td><td>-40.0            </td><td>-65.9             </td><td>1.0              </td><td>0.12              </td><td>0.0               </td><td>                </td><td>0.0              </td><td>0.0                 </td><td>                   </td><td>         </td><td>      </td><td>          </td><td>          </td><td>          </td><td>         </td><td>         </td><td>            </td><td>         </td><td>      </td><td>                 </td><td>                </td><td>              </td><td>                </td><td>                </td><td>                   </td><td>                       </td><td>2016.0            </td><td>1.0               </td><td>1.0              </td><td>0.0              </td><td>302.0              </td></tr>\n",
       "<tr><td>mean   </td><td>249966.22514985493</td><td>2.359244696640454 </td><td>36.49620611018356 </td><td>-95.48087961271533</td><td>9.189136159359084</td><td>-24.452923120031834</td><td>0.1501315915327046 </td><td>NaN                                                                                                      </td><td>                   </td><td>      </td><td>              </td><td>             </td><td>       </td><td>           </td><td>62.36198678157624</td><td>52.98101204582165 </td><td>65.42030815655461</td><td>29.831290805323427</td><td>9.150269780485603 </td><td>                </td><td>8.127075423735768</td><td>0.006742421136358044</td><td>                   </td><td>         </td><td>      </td><td>          </td><td>          </td><td>          </td><td>         </td><td>         </td><td>            </td><td>         </td><td>      </td><td>                 </td><td>                </td><td>              </td><td>                </td><td>                </td><td>                   </td><td>                       </td><td>2017.8038289968922</td><td>7.066746070142923 </td><td>15.69333789800821</td><td>12.10507498913497</td><td>5510.462040081667  </td></tr>\n",
       "<tr><td>maxs   </td><td>499999.0          </td><td>4.0               </td><td>48.994            </td><td>-67.606864        </td><td>49.00076         </td><td>0.0                </td><td>151.80854366970476 </td><td>NaN                                                                                                      </td><td>                   </td><td>      </td><td>              </td><td>             </td><td>       </td><td>           </td><td>170.6            </td><td>115.0             </td><td>100.0            </td><td>33.04             </td><td>111.0             </td><td>                </td><td>703.1            </td><td>10.05               </td><td>                   </td><td>         </td><td>      </td><td>          </td><td>          </td><td>          </td><td>         </td><td>         </td><td>            </td><td>         </td><td>      </td><td>                 </td><td>                </td><td>              </td><td>                </td><td>                </td><td>                   </td><td>                       </td><td>2019.0            </td><td>12.0              </td><td>31.0             </td><td>23.0             </td><td>86396.0            </td></tr>\n",
       "<tr><td>sigma  </td><td>144355.3087520344 </td><td>0.5417799002462939</td><td>4.935364247695628 </td><td>17.21869815361463 </td><td>16.34565338573105</td><td>43.947350123693596 </td><td>0.9004153669450531 </td><td>NaN                                                                                                      </td><td>                   </td><td>      </td><td>              </td><td>             </td><td>       </td><td>           </td><td>18.77897289152535</td><td>15.731524256712657</td><td>22.53362826897772</td><td>0.7184085298082538</td><td>2.8908384290001203</td><td>                </td><td>4.700990956874471</td><td>0.12955936104240542 </td><td>                   </td><td>         </td><td>      </td><td>          </td><td>          </td><td>          </td><td>         </td><td>         </td><td>            </td><td>         </td><td>      </td><td>                 </td><td>                </td><td>              </td><td>                </td><td>                </td><td>                   </td><td>                       </td><td>1.0377139792268606</td><td>3.4564745069103595</td><td>8.72691949585327 </td><td>5.093328738970474</td><td>6804.171383324198  </td></tr>\n",
       "<tr><td>zeros  </td><td>1                 </td><td>0                 </td><td>0                 </td><td>0                 </td><td>368565           </td><td>368565             </td><td>392909             </td><td>0                                                                                                        </td><td>                   </td><td>      </td><td>              </td><td>             </td><td>       </td><td>           </td><td>120              </td><td>55                </td><td>0                </td><td>0                 </td><td>138               </td><td>                </td><td>22945            </td><td>454402              </td><td>                   </td><td>         </td><td>      </td><td>          </td><td>          </td><td>          </td><td>         </td><td>         </td><td>            </td><td>         </td><td>      </td><td>                 </td><td>                </td><td>              </td><td>                </td><td>                </td><td>                   </td><td>                       </td><td>0                 </td><td>0                 </td><td>0                </td><td>3859             </td><td>0                  </td></tr>\n",
       "<tr><td>missing</td><td>0                 </td><td>0                 </td><td>0                 </td><td>0                 </td><td>0                </td><td>0                  </td><td>0                  </td><td>0                                                                                                        </td><td>0                  </td><td>0     </td><td>0             </td><td>0            </td><td>0      </td><td>0          </td><td>0                </td><td>0                 </td><td>0                </td><td>0                 </td><td>0                 </td><td>0               </td><td>0                </td><td>0                   </td><td>0                  </td><td>0        </td><td>0     </td><td>0         </td><td>0         </td><td>0         </td><td>0        </td><td>0        </td><td>0           </td><td>0        </td><td>0     </td><td>0                </td><td>0               </td><td>0             </td><td>0               </td><td>0               </td><td>0                  </td><td>0                      </td><td>0                 </td><td>0                 </td><td>0                </td><td>0                </td><td>0                  </td></tr>\n",
       "<tr><td>0      </td><td>0.0               </td><td>3.0               </td><td>42.493706         </td><td>-83.515755        </td><td>0.0              </td><td>0.0                </td><td>0.0                </td><td>Right hand shoulder blocked and right lane blocked due to accident on I-96 Eastbound at Exit 160 Beck Rd.</td><td>I-96 W             </td><td>R     </td><td>Novi          </td><td>Oakland      </td><td>MI     </td><td>US/Eastern </td><td>49.0             </td><td>44.0              </td><td>64.0             </td><td>28.81             </td><td>10.0              </td><td>NNW             </td><td>12.0             </td><td>0.0                 </td><td>Cloudy             </td><td>False    </td><td>False </td><td>False     </td><td>False     </td><td>False     </td><td>False    </td><td>False    </td><td>False       </td><td>False    </td><td>False </td><td>False            </td><td>False           </td><td>False         </td><td>Day             </td><td>Day             </td><td>Day                </td><td>Day                    </td><td>2019.0            </td><td>5.0               </td><td>13.0             </td><td>17.0             </td><td>4482.0             </td></tr>\n",
       "<tr><td>1      </td><td>1.0               </td><td>2.0               </td><td>40.67436          </td><td>-111.872936       </td><td>40.67433         </td><td>-111.869894        </td><td>0.15982683452243684</td><td>Between US-89/S State St and Salt Lake City - Accident.                                                  </td><td>E 4500 S           </td><td>L     </td><td>Salt Lake City</td><td>Salt Lake    </td><td>UT     </td><td>US/Mountain</td><td>43.7             </td><td>39.7              </td><td>64.0             </td><td>29.92             </td><td>10.0              </td><td>WNW             </td><td>6.9              </td><td>0.0                 </td><td>Clear              </td><td>False    </td><td>False </td><td>False     </td><td>False     </td><td>False     </td><td>False    </td><td>False    </td><td>False       </td><td>False    </td><td>False </td><td>False            </td><td>False           </td><td>False         </td><td>Night           </td><td>Night           </td><td>Night              </td><td>Night                  </td><td>2017.0            </td><td>10.0              </td><td>1.0              </td><td>22.0             </td><td>21600.0            </td></tr>\n",
       "<tr><td>2      </td><td>2.0               </td><td>2.0               </td><td>25.682124         </td><td>-80.38884         </td><td>25.682124        </td><td>-80.38884          </td><td>0.0                </td><td>At SR-94/Kendall Dr/Exit 20 - Accident.                                                                  </td><td>Florida's Tpke N   </td><td>R     </td><td>Miami         </td><td>Miami-Dade   </td><td>FL     </td><td>US/Eastern </td><td>73.9             </td><td>54.0              </td><td>85.0             </td><td>30.25             </td><td>10.0              </td><td>ESE             </td><td>10.4             </td><td>0.0                 </td><td>Partly Cloudy      </td><td>False    </td><td>False </td><td>False     </td><td>False     </td><td>False     </td><td>False    </td><td>False    </td><td>False       </td><td>False    </td><td>False </td><td>False            </td><td>False           </td><td>False         </td><td>Night           </td><td>Night           </td><td>Day                </td><td>Day                    </td><td>2018.0            </td><td>2.0               </td><td>20.0             </td><td>6.0              </td><td>1800.0             </td></tr>\n",
       "<tr><td>3      </td><td>3.0               </td><td>2.0               </td><td>44.915623         </td><td>-122.98877        </td><td>0.0              </td><td>0.0                </td><td>0.0                </td><td>Accident on OR-22 Mission St Eastbound at I-5.                                                           </td><td>Pacific Highway 1 S</td><td>R     </td><td>Salem         </td><td>Marion       </td><td>OR     </td><td>US/Pacific </td><td>73.0             </td><td>54.0              </td><td>49.0             </td><td>30.12             </td><td>10.0              </td><td>NNW             </td><td>6.9              </td><td>0.0                 </td><td>Mostly Cloudy      </td><td>False    </td><td>False </td><td>False     </td><td>False     </td><td>True      </td><td>False    </td><td>False    </td><td>False       </td><td>False    </td><td>False </td><td>False            </td><td>False           </td><td>False         </td><td>Day             </td><td>Day             </td><td>Day                </td><td>Day                    </td><td>2018.0            </td><td>6.0               </td><td>21.0             </td><td>15.0             </td><td>1756.0             </td></tr>\n",
       "<tr><td>4      </td><td>4.0               </td><td>3.0               </td><td>30.126699         </td><td>-95.443321        </td><td>0.0              </td><td>0.0                </td><td>0.0                </td><td>Left and center lane blocked due to accident on I-45 Northbound at Sawdust Rd.                           </td><td>Sawdust Rd         </td><td>R     </td><td>Spring        </td><td>Montgomery   </td><td>TX     </td><td>US/Central </td><td>91.0             </td><td>54.0              </td><td>55.0             </td><td>29.92             </td><td>10.0              </td><td>South           </td><td>8.1              </td><td>0.0                 </td><td>Mostly Cloudy      </td><td>False    </td><td>False </td><td>False     </td><td>False     </td><td>False     </td><td>False    </td><td>False    </td><td>False       </td><td>False    </td><td>False </td><td>False            </td><td>False           </td><td>False         </td><td>Day             </td><td>Day             </td><td>Day                </td><td>Day                    </td><td>2017.0            </td><td>6.0               </td><td>14.0             </td><td>17.0             </td><td>1777.0             </td></tr>\n",
       "<tr><td>5      </td><td>5.0               </td><td>2.0               </td><td>39.789185         </td><td>-86.190979        </td><td>0.0              </td><td>0.0                </td><td>0.0                </td><td>Accident on 16th St at Riverside Dr.                                                                     </td><td>W 16th St          </td><td>R     </td><td>Indianapolis  </td><td>Marion       </td><td>IN     </td><td>US/Eastern </td><td>66.9             </td><td>54.0              </td><td>93.0             </td><td>29.94             </td><td>6.0               </td><td>SSE             </td><td>3.5              </td><td>0.0                 </td><td>Mostly Cloudy      </td><td>False    </td><td>False </td><td>False     </td><td>False     </td><td>False     </td><td>False    </td><td>False    </td><td>False       </td><td>False    </td><td>False </td><td>False            </td><td>False           </td><td>False         </td><td>Night           </td><td>Night           </td><td>Night              </td><td>Night                  </td><td>2017.0            </td><td>9.0               </td><td>20.0             </td><td>5.0              </td><td>2688.0             </td></tr>\n",
       "<tr><td>6      </td><td>6.0               </td><td>2.0               </td><td>34.444984000000005</td><td>-119.605026       </td><td>0.0              </td><td>0.0                </td><td>0.0                </td><td>Accident on Knollwood Dr at Lilac Dr.                                                                    </td><td>Knollwood Dr       </td><td>L     </td><td>Santa Barbara </td><td>Santa Barbara</td><td>CA     </td><td>US/Pacific </td><td>68.0             </td><td>54.0              </td><td>45.0             </td><td>30.05             </td><td>10.0              </td><td>SSE             </td><td>5.8              </td><td>0.0                 </td><td>Clear              </td><td>False    </td><td>False </td><td>False     </td><td>False     </td><td>False     </td><td>False    </td><td>False    </td><td>False       </td><td>False    </td><td>False </td><td>False            </td><td>False           </td><td>False         </td><td>Day             </td><td>Day             </td><td>Day                </td><td>Day                    </td><td>2017.0            </td><td>11.0              </td><td>20.0             </td><td>10.0             </td><td>1789.0             </td></tr>\n",
       "<tr><td>7      </td><td>7.0               </td><td>3.0               </td><td>32.870533         </td><td>-117.195442       </td><td>0.0              </td><td>0.0                </td><td>0.0                </td><td>Accident on I-805 Northbound before Miramar Rd.                                                          </td><td>I-805 N            </td><td>R     </td><td>San Diego     </td><td>San Diego    </td><td>CA     </td><td>US/Pacific </td><td>67.0             </td><td>67.0              </td><td>68.0             </td><td>29.39             </td><td>10.0              </td><td>WNW             </td><td>10.0             </td><td>0.0                 </td><td>Cloudy             </td><td>False    </td><td>False </td><td>False     </td><td>False     </td><td>True      </td><td>False    </td><td>False    </td><td>False       </td><td>False    </td><td>False </td><td>False            </td><td>False           </td><td>False         </td><td>Day             </td><td>Day             </td><td>Day                </td><td>Day                    </td><td>2019.0            </td><td>6.0               </td><td>3.0              </td><td>17.0             </td><td>2685.0             </td></tr>\n",
       "<tr><td>8      </td><td>8.0               </td><td>2.0               </td><td>38.613026         </td><td>-121.401482       </td><td>0.0              </td><td>0.0                </td><td>0.0                </td><td>Accident on Fulton Ave at 2623 Fulton Ave.                                                               </td><td>Fulton Ave         </td><td>R     </td><td>Sacramento    </td><td>Sacramento   </td><td>CA     </td><td>US/Pacific </td><td>59.0             </td><td>54.0              </td><td>88.0             </td><td>30.14             </td><td>10.0              </td><td>Calm            </td><td>7.0              </td><td>0.0                 </td><td>Clear              </td><td>False    </td><td>False </td><td>False     </td><td>False     </td><td>False     </td><td>False    </td><td>False    </td><td>False       </td><td>False    </td><td>False </td><td>False            </td><td>False           </td><td>False         </td><td>Night           </td><td>Night           </td><td>Night              </td><td>Night                  </td><td>2016.0            </td><td>11.0              </td><td>8.0              </td><td>21.0             </td><td>1746.0             </td></tr>\n",
       "<tr><td>9      </td><td>9.0               </td><td>2.0               </td><td>35.663723         </td><td>-78.701408        </td><td>0.0              </td><td>0.0                </td><td>0.0                </td><td>Accident on US-401 Fayetteville Rd at Gelder Dr.                                                         </td><td>Gelder Dr          </td><td>R     </td><td>Raleigh       </td><td>Wake         </td><td>NC     </td><td>US/Eastern </td><td>60.1             </td><td>54.0              </td><td>42.0             </td><td>30.28             </td><td>10.0              </td><td>SW              </td><td>10.4             </td><td>0.0                 </td><td>Partly Cloudy      </td><td>False    </td><td>False </td><td>False     </td><td>False     </td><td>False     </td><td>False    </td><td>False    </td><td>False       </td><td>False    </td><td>False </td><td>False            </td><td>False           </td><td>False         </td><td>Day             </td><td>Day             </td><td>Day                </td><td>Day                    </td><td>2018.0            </td><td>10.0              </td><td>22.0             </td><td>15.0             </td><td>1789.0             </td></tr>\n",
       "</tbody>\n",
       "</table>"
      ]
     },
     "metadata": {},
     "output_type": "display_data"
    }
   ],
   "source": [
    "df.describe()"
   ]
  },
  {
   "cell_type": "markdown",
   "metadata": {},
   "source": [
    "Here we only keep numerical features are predictors, and take accident duration as the response column. "
   ]
  },
  {
   "cell_type": "code",
   "execution_count": 36,
   "metadata": {},
   "outputs": [
    {
     "name": "stdout",
     "output_type": "stream",
     "text": [
      "['C1', 'Severity', 'Start_Lat', 'Start_Lng', 'End_Lat', 'End_Lng', 'Distance(mi)', 'Description', 'Street', 'Side', 'City', 'County', 'State', 'Timezone', 'Temperature(F)', 'Wind_Chill(F)', 'Humidity(%)', 'Pressure(in)', 'Visibility(mi)', 'Wind_Direction', 'Wind_Speed(mph)', 'Precipitation(in)', 'Weather_Condition', 'Amenity', 'Bump', 'Crossing', 'Give_Way', 'Junction', 'No_Exit', 'Railway', 'Roundabout', 'Station', 'Stop', 'Traffic_Calming', 'Traffic_Signal', 'Turning_Loop', 'Sunrise_Sunset', 'Civil_Twilight', 'Nautical_Twilight', 'Astronomical_Twilight', 'Start_Year', 'Start_Month', 'Start_Day', 'Start_Hour', 'Accident_Duration']\n"
     ]
    }
   ],
   "source": [
    "#abstract all the numerical values as predictors\n",
    "print(df.columns)\n",
    "df_num = df[['Severity', 'Start_Lat', 'Start_Lng', 'End_Lat', 'End_Lng', 'Distance(mi)','Temperature(F)', 'Wind_Chill(F)', 'Humidity(%)', 'Pressure(in)', 'Visibility(mi)','Wind_Speed(mph)', 'Precipitation(in)','Accident_Duration' ]]"
   ]
  },
  {
   "cell_type": "markdown",
   "metadata": {},
   "source": [
    "Lastly, we split the data into two dataframes, training and testing datasets, which takes 80% and 20% of full data set perspectively. Testing dataset will be utilized to evaluate the leaderboard and generate predictions using AutoML model."
   ]
  },
  {
   "cell_type": "code",
   "execution_count": 51,
   "metadata": {},
   "outputs": [],
   "source": [
    "y = 'Accident_Duration'\n",
    "splits = df_num.split_frame(ratios = [0.8], seed = 1)\n",
    "train = splits[0]\n",
    "test = splits[1]"
   ]
  },
  {
   "cell_type": "markdown",
   "metadata": {},
   "source": [
    "# AutoML modeling"
   ]
  },
  {
   "cell_type": "markdown",
   "metadata": {},
   "source": [
    "'max_runtime_secs' limits the running time of AutoML modeling, here we run AutoML after 600 seconds, since our dataset is huge. We use test set metrics instead of cross validation to generate the leaderboard. "
   ]
  },
  {
   "cell_type": "code",
   "execution_count": 52,
   "metadata": {},
   "outputs": [
    {
     "name": "stdout",
     "output_type": "stream",
     "text": [
      "AutoML progress: |█\n",
      "14:21:19.366: AutoML: XGBoost is not available; skipping it.\n",
      "\n",
      "███████████████████████████████████████████████████████| 100%\n"
     ]
    }
   ],
   "source": [
    "aml = H2OAutoML(max_runtime_secs = 600, seed = 1, project_name = 'test_pred_severity')\n",
    "aml.train(y=y, training_frame = train, leaderboard_frame = test)\n"
   ]
  },
  {
   "cell_type": "markdown",
   "metadata": {},
   "source": [
    "To futher demonstrate AutoML model, we aslo excute AutoML run with the full dataset (without passing a leaderboard frame). This time leaderboard will apply cross-validation metrics instread of test-set metrics"
   ]
  },
  {
   "cell_type": "code",
   "execution_count": 56,
   "metadata": {
    "scrolled": true
   },
   "outputs": [
    {
     "name": "stdout",
     "output_type": "stream",
     "text": [
      "AutoML progress: |█\n",
      "14:37:40.616: AutoML: XGBoost is not available; skipping it.\n",
      "\n",
      "███████████████████████████████████████████████████████| 100%\n"
     ]
    }
   ],
   "source": [
    "aml2 = H2OAutoML (max_runtime_secs = 600, seed = 1, project_name = 'full_pred_serverity')\n",
    "aml2.train(y = y, training_frame = df_num)"
   ]
  },
  {
   "cell_type": "markdown",
   "metadata": {},
   "source": [
    "# Leaderboard"
   ]
  },
  {
   "cell_type": "markdown",
   "metadata": {},
   "source": [
    "Leaderboard will store a default performance metric for every ML task. AutoML leaderboard applies the performance of prediction mse to rank the models. "
   ]
  },
  {
   "cell_type": "code",
   "execution_count": 53,
   "metadata": {},
   "outputs": [
    {
     "data": {
      "text/html": [
       "<table>\n",
       "<thead>\n",
       "<tr><th>model_id                                           </th><th style=\"text-align: right;\">  mean_residual_deviance</th><th style=\"text-align: right;\">   rmse</th><th style=\"text-align: right;\">        mse</th><th style=\"text-align: right;\">    mae</th><th style=\"text-align: right;\">     rmsle</th></tr>\n",
       "</thead>\n",
       "<tbody>\n",
       "<tr><td>StackedEnsemble_BestOfFamily_AutoML_20200215_142119</td><td style=\"text-align: right;\">             1.4257e+07 </td><td style=\"text-align: right;\">3775.84</td><td style=\"text-align: right;\">1.4257e+07 </td><td style=\"text-align: right;\">1861.74</td><td style=\"text-align: right;\">  0.548496</td></tr>\n",
       "<tr><td>StackedEnsemble_AllModels_AutoML_20200215_142119   </td><td style=\"text-align: right;\">             1.42599e+07</td><td style=\"text-align: right;\">3776.23</td><td style=\"text-align: right;\">1.42599e+07</td><td style=\"text-align: right;\">1858.56</td><td style=\"text-align: right;\">  0.548451</td></tr>\n",
       "<tr><td>DRF_1_AutoML_20200215_142119                       </td><td style=\"text-align: right;\">             1.42657e+07</td><td style=\"text-align: right;\">3777   </td><td style=\"text-align: right;\">1.42657e+07</td><td style=\"text-align: right;\">1875.56</td><td style=\"text-align: right;\">  0.549418</td></tr>\n",
       "<tr><td>GBM_4_AutoML_20200215_142119                       </td><td style=\"text-align: right;\">             1.47204e+07</td><td style=\"text-align: right;\">3836.72</td><td style=\"text-align: right;\">1.47204e+07</td><td style=\"text-align: right;\">1911.31</td><td style=\"text-align: right;\">nan       </td></tr>\n",
       "<tr><td>GBM_5_AutoML_20200215_142119                       </td><td style=\"text-align: right;\">             1.48238e+07</td><td style=\"text-align: right;\">3850.17</td><td style=\"text-align: right;\">1.48238e+07</td><td style=\"text-align: right;\">1937.6 </td><td style=\"text-align: right;\">  0.556157</td></tr>\n",
       "<tr><td>GBM_3_AutoML_20200215_142119                       </td><td style=\"text-align: right;\">             1.50716e+07</td><td style=\"text-align: right;\">3882.21</td><td style=\"text-align: right;\">1.50716e+07</td><td style=\"text-align: right;\">1952.02</td><td style=\"text-align: right;\">nan       </td></tr>\n",
       "<tr><td>GBM_2_AutoML_20200215_142119                       </td><td style=\"text-align: right;\">             1.51526e+07</td><td style=\"text-align: right;\">3892.63</td><td style=\"text-align: right;\">1.51526e+07</td><td style=\"text-align: right;\">1962.33</td><td style=\"text-align: right;\">nan       </td></tr>\n",
       "<tr><td>GBM_1_AutoML_20200215_142119                       </td><td style=\"text-align: right;\">             1.52407e+07</td><td style=\"text-align: right;\">3903.93</td><td style=\"text-align: right;\">1.52407e+07</td><td style=\"text-align: right;\">1981.85</td><td style=\"text-align: right;\">nan       </td></tr>\n",
       "<tr><td>GLM_1_AutoML_20200215_142119                       </td><td style=\"text-align: right;\">             4.61379e+07</td><td style=\"text-align: right;\">6792.49</td><td style=\"text-align: right;\">4.61379e+07</td><td style=\"text-align: right;\">4828.78</td><td style=\"text-align: right;\">  0.977033</td></tr>\n",
       "</tbody>\n",
       "</table>"
      ]
     },
     "metadata": {},
     "output_type": "display_data"
    },
    {
     "data": {
      "text/plain": []
     },
     "execution_count": 53,
     "metadata": {},
     "output_type": "execute_result"
    }
   ],
   "source": [
    "aml.leaderboard.head()"
   ]
  },
  {
   "cell_type": "markdown",
   "metadata": {},
   "source": [
    "As the table above indicates, the two stacked ensembles rank at the top of the leaderboard. Stacked Ensembles ourperform other single models."
   ]
  },
  {
   "cell_type": "code",
   "execution_count": 57,
   "metadata": {},
   "outputs": [
    {
     "data": {
      "text/html": [
       "<table>\n",
       "<thead>\n",
       "<tr><th>model_id                                           </th><th style=\"text-align: right;\">  mean_residual_deviance</th><th style=\"text-align: right;\">   rmse</th><th style=\"text-align: right;\">        mse</th><th style=\"text-align: right;\">    mae</th><th style=\"text-align: right;\">     rmsle</th></tr>\n",
       "</thead>\n",
       "<tbody>\n",
       "<tr><td>StackedEnsemble_BestOfFamily_AutoML_20200215_143740</td><td style=\"text-align: right;\">             1.42042e+07</td><td style=\"text-align: right;\">3768.84</td><td style=\"text-align: right;\">1.42042e+07</td><td style=\"text-align: right;\">1872.31</td><td style=\"text-align: right;\">  0.549644</td></tr>\n",
       "<tr><td>StackedEnsemble_AllModels_AutoML_20200215_143740   </td><td style=\"text-align: right;\">             1.42042e+07</td><td style=\"text-align: right;\">3768.85</td><td style=\"text-align: right;\">1.42042e+07</td><td style=\"text-align: right;\">1872.31</td><td style=\"text-align: right;\">  0.549644</td></tr>\n",
       "<tr><td>DRF_1_AutoML_20200215_143740                       </td><td style=\"text-align: right;\">             1.42074e+07</td><td style=\"text-align: right;\">3769.26</td><td style=\"text-align: right;\">1.42074e+07</td><td style=\"text-align: right;\">1885.41</td><td style=\"text-align: right;\">  0.55013 </td></tr>\n",
       "<tr><td>GBM_3_AutoML_20200215_143740                       </td><td style=\"text-align: right;\">             1.49291e+07</td><td style=\"text-align: right;\">3863.82</td><td style=\"text-align: right;\">1.49291e+07</td><td style=\"text-align: right;\">1961.34</td><td style=\"text-align: right;\">nan       </td></tr>\n",
       "<tr><td>GBM_4_AutoML_20200215_143740                       </td><td style=\"text-align: right;\">             1.50094e+07</td><td style=\"text-align: right;\">3874.2 </td><td style=\"text-align: right;\">1.50094e+07</td><td style=\"text-align: right;\">2031.43</td><td style=\"text-align: right;\">nan       </td></tr>\n",
       "<tr><td>GBM_2_AutoML_20200215_143740                       </td><td style=\"text-align: right;\">             1.50625e+07</td><td style=\"text-align: right;\">3881.04</td><td style=\"text-align: right;\">1.50625e+07</td><td style=\"text-align: right;\">1976   </td><td style=\"text-align: right;\">nan       </td></tr>\n",
       "<tr><td>GBM_1_AutoML_20200215_143740                       </td><td style=\"text-align: right;\">             1.51916e+07</td><td style=\"text-align: right;\">3897.64</td><td style=\"text-align: right;\">1.51916e+07</td><td style=\"text-align: right;\">1994.86</td><td style=\"text-align: right;\">nan       </td></tr>\n",
       "<tr><td>GLM_1_AutoML_20200215_143740                       </td><td style=\"text-align: right;\">             4.62962e+07</td><td style=\"text-align: right;\">6804.13</td><td style=\"text-align: right;\">4.62962e+07</td><td style=\"text-align: right;\">4842.13</td><td style=\"text-align: right;\">  0.977175</td></tr>\n",
       "</tbody>\n",
       "</table>"
      ]
     },
     "metadata": {},
     "output_type": "display_data"
    },
    {
     "data": {
      "text/plain": []
     },
     "execution_count": 57,
     "metadata": {},
     "output_type": "execute_result"
    }
   ],
   "source": [
    "aml2.leaderboard.head()"
   ]
  },
  {
   "cell_type": "markdown",
   "metadata": {},
   "source": [
    "# Prediction "
   ]
  },
  {
   "cell_type": "markdown",
   "metadata": {},
   "source": [
    "After building up the model, we can generate predictions of accident duration based on testing dataset or the leader model project. "
   ]
  },
  {
   "cell_type": "code",
   "execution_count": 55,
   "metadata": {},
   "outputs": [
    {
     "name": "stdout",
     "output_type": "stream",
     "text": [
      "stackedensemble prediction progress: |████████████████████████████████████| 100%\n"
     ]
    },
    {
     "data": {
      "text/html": [
       "<table>\n",
       "<thead>\n",
       "<tr><th style=\"text-align: right;\">  predict</th></tr>\n",
       "</thead>\n",
       "<tbody>\n",
       "<tr><td style=\"text-align: right;\"> 12785.8 </td></tr>\n",
       "<tr><td style=\"text-align: right;\">  2382.43</td></tr>\n",
       "<tr><td style=\"text-align: right;\">  2456.47</td></tr>\n",
       "<tr><td style=\"text-align: right;\">  2002.59</td></tr>\n",
       "<tr><td style=\"text-align: right;\">  2021.97</td></tr>\n",
       "<tr><td style=\"text-align: right;\">  4052.37</td></tr>\n",
       "<tr><td style=\"text-align: right;\">  2504.54</td></tr>\n",
       "<tr><td style=\"text-align: right;\">  2205.72</td></tr>\n",
       "<tr><td style=\"text-align: right;\">  1949.29</td></tr>\n",
       "<tr><td style=\"text-align: right;\">  2294.41</td></tr>\n",
       "</tbody>\n",
       "</table>"
      ]
     },
     "metadata": {},
     "output_type": "display_data"
    },
    {
     "data": {
      "text/plain": []
     },
     "execution_count": 55,
     "metadata": {},
     "output_type": "execute_result"
    }
   ],
   "source": [
    "prediction = aml.predict(test)\n",
    "prediction.head()"
   ]
  },
  {
   "cell_type": "markdown",
   "metadata": {},
   "source": [
    "Generate an H2O model performance object using model_performance() function. "
   ]
  },
  {
   "cell_type": "code",
   "execution_count": 58,
   "metadata": {},
   "outputs": [
    {
     "name": "stdout",
     "output_type": "stream",
     "text": [
      "\n",
      "ModelMetricsRegressionGLM: stackedensemble\n",
      "** Reported on test data. **\n",
      "\n",
      "MSE: 14257002.063233616\n",
      "RMSE: 3775.844549664832\n",
      "MAE: 1861.7421094087822\n",
      "RMSLE: 0.5484959041366745\n",
      "R^2: 0.6909910160873297\n",
      "Mean Residual Deviance: 14257002.063233616\n",
      "Null degrees of freedom: 97363\n",
      "Residual degrees of freedom: 97361\n",
      "Null deviance: 4492249890483.234\n",
      "Residual deviance: 1388118748884.6777\n",
      "AIC: 1880168.7424015864\n"
     ]
    },
    {
     "data": {
      "text/plain": []
     },
     "execution_count": 58,
     "metadata": {},
     "output_type": "execute_result"
    }
   ],
   "source": [
    "performance = aml.leader.model_performance(test)\n",
    "performance "
   ]
  },
  {
   "cell_type": "markdown",
   "metadata": {},
   "source": [
    "# Visualization"
   ]
  },
  {
   "cell_type": "code",
   "execution_count": 59,
   "metadata": {},
   "outputs": [],
   "source": [
    "# get ids of all Automl models\n",
    "model_ids = list(aml.leaderboard['model_id'].as_data_frame().iloc[:,0])\n",
    "# All Models\" Stacked Ensemble model\n",
    "se = h2o.get_model([mid for mid in model_ids if \"StackedEnsemble_AllModels\" in mid][0])\n",
    "# Stacked Ensemble metalearner model\n",
    "metalearner = h2o.get_model(se.metalearner()['name'])"
   ]
  },
  {
   "cell_type": "code",
   "execution_count": 60,
   "metadata": {},
   "outputs": [
    {
     "data": {
      "image/png": "[encoded data removed]",
      "text/plain": [
       "<Figure size 1008x720 with 1 Axes>"
      ]
     },
     "metadata": {
      "needs_background": "light"
     },
     "output_type": "display_data"
    }
   ],
   "source": [
    "# plot\n",
    "%matplotlib inline\n",
    "metalearner.std_coef_plot()"
   ]
  }
 ],
 "metadata": {
  "kernelspec": {
   "display_name": "Python 3",
   "language": "python",
   "name": "python3"
  },
  "language_info": {
   "codemirror_mode": {
    "name": "ipython",
    "version": 3
   },
   "file_extension": ".py",
   "mimetype": "text/x-python",
   "name": "python",
   "nbconvert_exporter": "python",
   "pygments_lexer": "ipython3",
   "version": "3.7.3"
  }
 },
 "nbformat": 4,
 "nbformat_minor": 2
}
