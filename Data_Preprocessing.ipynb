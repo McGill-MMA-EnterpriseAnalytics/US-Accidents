{
 "cells": [
  {
   "cell_type": "code",
   "execution_count": 1,
   "metadata": {},
   "outputs": [],
   "source": [
    "import pandas as pd\n",
    "import datetime\n",
    "from datetime import timedelta\n",
    "import geopy.distance"
   ]
  },
  {
   "cell_type": "markdown",
   "metadata": {},
   "source": [
    "### Importing libraries"
   ]
  },
  {
   "cell_type": "markdown",
   "metadata": {},
   "source": [
    "### Importing the data"
   ]
  },
  {
   "cell_type": "code",
   "execution_count": 3,
   "metadata": {},
   "outputs": [],
   "source": [
    "df = pd.read_csv(r'C:\\Users\\diabl\\Desktop\\MMA Program\\Winter 2020 - 1\\Entreprise Analytics\\Entreprise Final Project\\accidents.csv')"
   ]
  },
  {
   "cell_type": "markdown",
   "metadata": {},
   "source": [
    "### Preprocessing of the data"
   ]
  },
  {
   "cell_type": "code",
   "execution_count": 4,
   "metadata": {},
   "outputs": [],
   "source": [
    "df = df.drop(\"Unnamed: 0\",axis=1)\n",
    "start = df[\"Start_Time\"].tolist()\n",
    "end = df[\"End_Time\"].tolist()\n",
    "years = []\n",
    "months =[]\n",
    "days = []\n",
    "hours =[]\n",
    "ends = []\n",
    "##Getting individual tokens to get the hour, month and  year\n",
    "for time in start:\n",
    "    years.append(time.split(\" \")[0].split(\"-\")[0])\n",
    "    months.append(time.split(\" \")[0].split(\"-\")[1])\n",
    "    days.append(time.split(\" \")[0].split(\"-\")[2])\n",
    "    hours.append(time.split(\" \")[1].split(\":\")[0])"
   ]
  },
  {
   "cell_type": "markdown",
   "metadata": {},
   "source": [
    "### Calculating the duration of the accident"
   ]
  },
  {
   "cell_type": "code",
   "execution_count": 5,
   "metadata": {},
   "outputs": [],
   "source": [
    "datetimeFormat = '%Y-%m-%d %H:%M:%S'\n",
    "for begin,finish in zip(start,end):\n",
    "    ends.append((datetime.datetime.strptime(finish, datetimeFormat) - datetime.datetime.strptime(begin, datetimeFormat)).seconds)\n",
    "\n",
    "df[\"Start_Year\"] = years\n",
    "df[\"Start_Month\"] = months\n",
    "df[\"Start_Day\"] = days\n",
    "df[\"Start_Hour\"] = hours\n",
    "df[\"Accident_Duration\"] = ends\n",
    "df = df.drop(\"Start_Time\",axis=1)\n",
    "df = df.drop(\"End_Time\",axis=1)"
   ]
  },
  {
   "cell_type": "markdown",
   "metadata": {},
   "source": [
    "### Calculating the distance of the accident"
   ]
  },
  {
   "cell_type": "code",
   "execution_count": 6,
   "metadata": {},
   "outputs": [
    {
     "name": "stderr",
     "output_type": "stream",
     "text": [
      "C:\\Users\\diabl\\Anaconda3\\lib\\site-packages\\ipykernel_launcher.py:16: DeprecationWarning: Vincenty is deprecated and is going to be removed in geopy 2.0. Use `geopy.distance.geodesic` (or the default `geopy.distance.distance`) instead, which is more accurate and always converges.\n",
      "  app.launch_new_instance()\n"
     ]
    }
   ],
   "source": [
    "df['End_Lng'] = df['End_Lng'].fillna(0)\n",
    "df['End_Lat'] = df['End_Lat'].fillna(0)\n",
    "start_lat = df[\"Start_Lat\"].tolist()\n",
    "start_long = df[\"Start_Lng\"].tolist()\n",
    "end_long = df[\"End_Lng\"].tolist()\n",
    "end_lat = df[\"End_Lat\"].tolist()\n",
    "distance = []\n",
    "i = 0\n",
    "for i in range(0,500000):\n",
    "    if end_long[i] == 0:\n",
    "        end_long[i] = start_long[i]\n",
    "    if end_lat[i] == 0:\n",
    "        end_lat[i] = start_lat[i]\n",
    "    coord1 = (float(start_lat[i]),float(start_long[i]))\n",
    "    coord2 =  (float(end_lat[i]),float(end_long[i]))\n",
    "    distance.append(geopy.distance.vincenty(coord1, coord2).mi)\n",
    "\n",
    "df[\"Distance(mi)\"] = distance"
   ]
  },
  {
   "cell_type": "markdown",
   "metadata": {},
   "source": [
    "### Replacing na's with the median"
   ]
  },
  {
   "cell_type": "code",
   "execution_count": 7,
   "metadata": {},
   "outputs": [],
   "source": [
    "df['Temperature(F)'] = df['Temperature(F)'].fillna(df['Temperature(F)'].median())\n",
    "df['Wind_Chill(F)'] = df['Wind_Chill(F)'].fillna(df['Wind_Chill(F)'].median())\n",
    "df['Humidity(%)'] = df['Humidity(%)'].fillna(df['Humidity(%)'].median())\n",
    "df['Pressure(in)'] = df['Pressure(in)'].fillna(df['Pressure(in)'].median())\n",
    "df['Visibility(mi)'] = df['Visibility(mi)'].fillna(df['Visibility(mi)'].median())\n",
    "df['Wind_Speed(mph)'] = df['Wind_Speed(mph)'].fillna(df['Wind_Speed(mph)'].median())\n",
    "df['Precipitation(in)'] = df['Precipitation(in)'].fillna(df['Precipitation(in)'].median())\n",
    "df = df.dropna()"
   ]
  },
  {
   "cell_type": "code",
   "execution_count": 8,
   "metadata": {},
   "outputs": [],
   "source": [
    "df.to_csv(r'C:\\Users\\diabl\\Desktop\\MMA Program\\Winter 2020 - 1\\Entreprise Analytics\\Entreprise Final Project\\clean_accidents.csv')"
   ]
  }
 ],
 "metadata": {
  "kernelspec": {
   "display_name": "Python 3",
   "language": "python",
   "name": "python3"
  },
  "language_info": {
   "codemirror_mode": {
    "name": "ipython",
    "version": 3
   },
   "file_extension": ".py",
   "mimetype": "text/x-python",
   "name": "python",
   "nbconvert_exporter": "python",
   "pygments_lexer": "ipython3",
   "version": "3.7.4"
  }
 },
 "nbformat": 4,
 "nbformat_minor": 2
}
